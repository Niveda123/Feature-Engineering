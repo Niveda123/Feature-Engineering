{
 "cells": [
  {
   "cell_type": "markdown",
   "id": "57cec7d3",
   "metadata": {
    "papermill": {
     "duration": 0.006683,
     "end_time": "2022-10-15T18:58:20.762882",
     "exception": false,
     "start_time": "2022-10-15T18:58:20.756199",
     "status": "completed"
    },
    "tags": []
   },
   "source": [
    "**This notebook is an exercise in the [Feature Engineering](https://www.kaggle.com/learn/feature-engineering) course.  You can reference the tutorial at [this link](https://www.kaggle.com/ryanholbrook/creating-features).**\n",
    "\n",
    "---\n"
   ]
  },
  {
   "cell_type": "markdown",
   "id": "b2046231",
   "metadata": {
    "papermill": {
     "duration": 0.005133,
     "end_time": "2022-10-15T18:58:20.773648",
     "exception": false,
     "start_time": "2022-10-15T18:58:20.768515",
     "status": "completed"
    },
    "tags": []
   },
   "source": [
    "# Introduction #\n",
    "\n",
    "In this exercise you'll start developing the features you identified in Exercise 2 as having the most potential. As you work through this exercise, you might take a moment to look at the data documentation again and consider whether the features we're creating make sense from a real-world perspective, and whether there are any useful combinations that stand out to you.\n",
    "\n",
    "Run this cell to set everything up!"
   ]
  },
  {
   "cell_type": "code",
   "execution_count": 1,
   "id": "2097621d",
   "metadata": {
    "execution": {
     "iopub.execute_input": "2022-10-15T18:58:20.786722Z",
     "iopub.status.busy": "2022-10-15T18:58:20.786248Z",
     "iopub.status.idle": "2022-10-15T18:58:22.003890Z",
     "shell.execute_reply": "2022-10-15T18:58:22.002592Z"
    },
    "papermill": {
     "duration": 1.227641,
     "end_time": "2022-10-15T18:58:22.006772",
     "exception": false,
     "start_time": "2022-10-15T18:58:20.779131",
     "status": "completed"
    },
    "tags": []
   },
   "outputs": [],
   "source": [
    "# Setup feedback system\n",
    "from learntools.core import binder\n",
    "binder.bind(globals())\n",
    "from learntools.feature_engineering_new.ex3 import *\n",
    "\n",
    "import numpy as np\n",
    "import pandas as pd\n",
    "from sklearn.model_selection import cross_val_score\n",
    "from xgboost import XGBRegressor\n",
    "\n",
    "\n",
    "def score_dataset(X, y, model=XGBRegressor()):\n",
    "    # Label encoding for categoricals\n",
    "    for colname in X.select_dtypes([\"category\", \"object\"]):\n",
    "        X[colname], _ = X[colname].factorize()\n",
    "    # Metric for Housing competition is RMSLE (Root Mean Squared Log Error)\n",
    "    score = cross_val_score(\n",
    "        model, X, y, cv=5, scoring=\"neg_mean_squared_log_error\",\n",
    "    )\n",
    "    score = -1 * score.mean()\n",
    "    score = np.sqrt(score)\n",
    "    return score\n",
    "\n",
    "\n",
    "# Prepare data\n",
    "df = pd.read_csv(\"../input/fe-course-data/ames.csv\")\n",
    "X = df.copy()\n",
    "y = X.pop(\"SalePrice\")"
   ]
  },
  {
   "cell_type": "markdown",
   "id": "049f0d29",
   "metadata": {
    "papermill": {
     "duration": 0.005779,
     "end_time": "2022-10-15T18:58:22.018364",
     "exception": false,
     "start_time": "2022-10-15T18:58:22.012585",
     "status": "completed"
    },
    "tags": []
   },
   "source": [
    "-------------------------------------------------------------------------------\n",
    "\n",
    "Let's start with a few mathematical combinations. We'll focus on features describing areas -- having the same units (square-feet) makes it easy to combine them in sensible ways. Since we're using XGBoost (a tree-based model), we'll focus on ratios and sums.\n",
    "\n",
    "# 1) Create Mathematical Transforms\n",
    "\n",
    "Create the following features:\n",
    "\n",
    "- `LivLotRatio`: the ratio of `GrLivArea` to `LotArea`\n",
    "- `Spaciousness`: the sum of `FirstFlrSF` and `SecondFlrSF` divided by `TotRmsAbvGrd`\n",
    "- `TotalOutsideSF`: the sum of `WoodDeckSF`, `OpenPorchSF`, `EnclosedPorch`, `Threeseasonporch`, and `ScreenPorch`"
   ]
  },
  {
   "cell_type": "code",
   "execution_count": 2,
   "id": "4192c65b",
   "metadata": {
    "execution": {
     "iopub.execute_input": "2022-10-15T18:58:22.031733Z",
     "iopub.status.busy": "2022-10-15T18:58:22.030611Z",
     "iopub.status.idle": "2022-10-15T18:58:22.058510Z",
     "shell.execute_reply": "2022-10-15T18:58:22.057597Z"
    },
    "lines_to_next_cell": 0,
    "papermill": {
     "duration": 0.036829,
     "end_time": "2022-10-15T18:58:22.060691",
     "exception": false,
     "start_time": "2022-10-15T18:58:22.023862",
     "status": "completed"
    },
    "tags": []
   },
   "outputs": [
    {
     "data": {
      "application/javascript": [
       "parent.postMessage({\"jupyterEvent\": \"custom.exercise_interaction\", \"data\": {\"outcomeType\": 1, \"valueTowardsCompletion\": 0.2, \"interactionType\": 1, \"questionType\": 2, \"questionId\": \"1_Q1\", \"learnToolsVersion\": \"0.3.4\", \"failureMessage\": \"\", \"exceptionClass\": \"\", \"trace\": \"\"}}, \"*\")"
      ],
      "text/plain": [
       "<IPython.core.display.Javascript object>"
      ]
     },
     "metadata": {},
     "output_type": "display_data"
    },
    {
     "data": {
      "text/markdown": [
       "<span style=\"color:#33cc33\">Correct</span>"
      ],
      "text/plain": [
       "Correct"
      ]
     },
     "metadata": {},
     "output_type": "display_data"
    }
   ],
   "source": [
    "# YOUR CODE HERE\n",
    "X_1 = pd.DataFrame()  # dataframe to hold new features\n",
    "\n",
    "X_1[\"LivLotRatio\"] = df.GrLivArea / df.LotArea\n",
    "X_1[\"Spaciousness\"] = (df.FirstFlrSF + df.SecondFlrSF) / df.TotRmsAbvGrd\n",
    "X_1[\"TotalOutsideSF\"] = df.WoodDeckSF + df.OpenPorchSF + df.EnclosedPorch + df.Threeseasonporch + df.ScreenPorch\n",
    "\n",
    "\n",
    "# Check your answer\n",
    "q_1.check()"
   ]
  },
  {
   "cell_type": "code",
   "execution_count": 3,
   "id": "d113c603",
   "metadata": {
    "execution": {
     "iopub.execute_input": "2022-10-15T18:58:22.074280Z",
     "iopub.status.busy": "2022-10-15T18:58:22.073890Z",
     "iopub.status.idle": "2022-10-15T18:58:22.078242Z",
     "shell.execute_reply": "2022-10-15T18:58:22.077280Z"
    },
    "lines_to_next_cell": 0,
    "papermill": {
     "duration": 0.013856,
     "end_time": "2022-10-15T18:58:22.080506",
     "exception": false,
     "start_time": "2022-10-15T18:58:22.066650",
     "status": "completed"
    },
    "tags": []
   },
   "outputs": [],
   "source": [
    "# Lines below will give you a hint or solution code\n",
    "#q_1.hint()\n",
    "#q_1.solution()"
   ]
  },
  {
   "cell_type": "markdown",
   "id": "d03987e3",
   "metadata": {
    "papermill": {
     "duration": 0.005563,
     "end_time": "2022-10-15T18:58:22.091817",
     "exception": false,
     "start_time": "2022-10-15T18:58:22.086254",
     "status": "completed"
    },
    "tags": []
   },
   "source": [
    "-------------------------------------------------------------------------------\n",
    "\n",
    "If you've discovered an interaction effect between a numeric feature and a categorical feature, you might want to model it explicitly using a one-hot encoding, like so:\n",
    "\n",
    "```\n",
    "# One-hot encode Categorical feature, adding a column prefix \"Cat\"\n",
    "X_new = pd.get_dummies(df.Categorical, prefix=\"Cat\")\n",
    "\n",
    "# Multiply row-by-row\n",
    "X_new = X_new.mul(df.Continuous, axis=0)\n",
    "\n",
    "# Join the new features to the feature set\n",
    "X = X.join(X_new)\n",
    "```\n",
    "\n",
    "# 2) Interaction with a Categorical\n",
    "\n",
    "We discovered an interaction between `BldgType` and `GrLivArea` in Exercise 2. Now create their interaction features."
   ]
  },
  {
   "cell_type": "code",
   "execution_count": 4,
   "id": "ac0182cd",
   "metadata": {
    "execution": {
     "iopub.execute_input": "2022-10-15T18:58:22.105524Z",
     "iopub.status.busy": "2022-10-15T18:58:22.104625Z",
     "iopub.status.idle": "2022-10-15T18:58:22.119981Z",
     "shell.execute_reply": "2022-10-15T18:58:22.118905Z"
    },
    "lines_to_next_cell": 0,
    "papermill": {
     "duration": 0.024638,
     "end_time": "2022-10-15T18:58:22.122300",
     "exception": false,
     "start_time": "2022-10-15T18:58:22.097662",
     "status": "completed"
    },
    "tags": []
   },
   "outputs": [
    {
     "data": {
      "application/javascript": [
       "parent.postMessage({\"jupyterEvent\": \"custom.exercise_interaction\", \"data\": {\"outcomeType\": 1, \"valueTowardsCompletion\": 0.2, \"interactionType\": 1, \"questionType\": 2, \"questionId\": \"2_Q2\", \"learnToolsVersion\": \"0.3.4\", \"failureMessage\": \"\", \"exceptionClass\": \"\", \"trace\": \"\"}}, \"*\")"
      ],
      "text/plain": [
       "<IPython.core.display.Javascript object>"
      ]
     },
     "metadata": {},
     "output_type": "display_data"
    },
    {
     "data": {
      "text/markdown": [
       "<span style=\"color:#33cc33\">Correct</span>"
      ],
      "text/plain": [
       "Correct"
      ]
     },
     "metadata": {},
     "output_type": "display_data"
    }
   ],
   "source": [
    "# YOUR CODE HERE\n",
    "# One-hot encode BldgType. Use `prefix=\"Bldg\"` in `get_dummies`\n",
    "X_2 = pd.get_dummies(df.BldgType, prefix=\"Bldg\")\n",
    "# Multiply\n",
    "X_2 = X_2.mul(df.GrLivArea, axis=0)\n",
    "\n",
    "\n",
    "# Check your answer\n",
    "q_2.check()"
   ]
  },
  {
   "cell_type": "code",
   "execution_count": 5,
   "id": "25d880f0",
   "metadata": {
    "execution": {
     "iopub.execute_input": "2022-10-15T18:58:22.136516Z",
     "iopub.status.busy": "2022-10-15T18:58:22.135627Z",
     "iopub.status.idle": "2022-10-15T18:58:22.139910Z",
     "shell.execute_reply": "2022-10-15T18:58:22.139110Z"
    },
    "lines_to_next_cell": 0,
    "papermill": {
     "duration": 0.013798,
     "end_time": "2022-10-15T18:58:22.142216",
     "exception": false,
     "start_time": "2022-10-15T18:58:22.128418",
     "status": "completed"
    },
    "tags": []
   },
   "outputs": [],
   "source": [
    "# Lines below will give you a hint or solution code\n",
    "#q_2.hint()\n",
    "#q_2.solution()"
   ]
  },
  {
   "cell_type": "markdown",
   "id": "49683112",
   "metadata": {
    "lines_to_next_cell": 0,
    "papermill": {
     "duration": 0.005753,
     "end_time": "2022-10-15T18:58:22.154007",
     "exception": false,
     "start_time": "2022-10-15T18:58:22.148254",
     "status": "completed"
    },
    "tags": []
   },
   "source": [
    "# 3) Count Feature\n",
    "\n",
    "Let's try creating a feature that describes how many kinds of outdoor areas a dwelling has. Create a feature `PorchTypes` that counts how many of the following are greater than 0.0:\n",
    "\n",
    "```\n",
    "WoodDeckSF\n",
    "OpenPorchSF\n",
    "EnclosedPorch\n",
    "Threeseasonporch\n",
    "ScreenPorch\n",
    "```"
   ]
  },
  {
   "cell_type": "code",
   "execution_count": 6,
   "id": "7c7cc9c8",
   "metadata": {
    "execution": {
     "iopub.execute_input": "2022-10-15T18:58:22.167654Z",
     "iopub.status.busy": "2022-10-15T18:58:22.167252Z",
     "iopub.status.idle": "2022-10-15T18:58:22.184930Z",
     "shell.execute_reply": "2022-10-15T18:58:22.183836Z"
    },
    "lines_to_next_cell": 0,
    "papermill": {
     "duration": 0.027343,
     "end_time": "2022-10-15T18:58:22.187390",
     "exception": false,
     "start_time": "2022-10-15T18:58:22.160047",
     "status": "completed"
    },
    "tags": []
   },
   "outputs": [
    {
     "data": {
      "application/javascript": [
       "parent.postMessage({\"jupyterEvent\": \"custom.exercise_interaction\", \"data\": {\"outcomeType\": 1, \"valueTowardsCompletion\": 0.2, \"interactionType\": 1, \"questionType\": 2, \"questionId\": \"3_Q3\", \"learnToolsVersion\": \"0.3.4\", \"failureMessage\": \"\", \"exceptionClass\": \"\", \"trace\": \"\"}}, \"*\")"
      ],
      "text/plain": [
       "<IPython.core.display.Javascript object>"
      ]
     },
     "metadata": {},
     "output_type": "display_data"
    },
    {
     "data": {
      "text/markdown": [
       "<span style=\"color:#33cc33\">Correct</span>"
      ],
      "text/plain": [
       "Correct"
      ]
     },
     "metadata": {},
     "output_type": "display_data"
    }
   ],
   "source": [
    "X_3 = pd.DataFrame()\n",
    "\n",
    "# YOUR CODE HERE\n",
    "X_3[\"PorchTypes\"] = df[[\"WoodDeckSF\",\"OpenPorchSF\", \"EnclosedPorch\", \"Threeseasonporch\", \"ScreenPorch\",]].gt(0.0).sum(axis=1)\n",
    "\n",
    "\n",
    "# Check your answer\n",
    "q_3.check()"
   ]
  },
  {
   "cell_type": "code",
   "execution_count": 7,
   "id": "a486ce64",
   "metadata": {
    "execution": {
     "iopub.execute_input": "2022-10-15T18:58:22.202792Z",
     "iopub.status.busy": "2022-10-15T18:58:22.202404Z",
     "iopub.status.idle": "2022-10-15T18:58:22.206686Z",
     "shell.execute_reply": "2022-10-15T18:58:22.205592Z"
    },
    "lines_to_next_cell": 0,
    "papermill": {
     "duration": 0.015157,
     "end_time": "2022-10-15T18:58:22.208881",
     "exception": false,
     "start_time": "2022-10-15T18:58:22.193724",
     "status": "completed"
    },
    "tags": []
   },
   "outputs": [],
   "source": [
    "# Lines below will give you a hint or solution code\n",
    "#q_3.hint()\n",
    "#q_3.solution()"
   ]
  },
  {
   "cell_type": "markdown",
   "id": "39954dd8",
   "metadata": {
    "papermill": {
     "duration": 0.006073,
     "end_time": "2022-10-15T18:58:22.221212",
     "exception": false,
     "start_time": "2022-10-15T18:58:22.215139",
     "status": "completed"
    },
    "tags": []
   },
   "source": [
    "# 4) Break Down a Categorical Feature\n",
    "\n",
    "`MSSubClass` describes the type of a dwelling:"
   ]
  },
  {
   "cell_type": "code",
   "execution_count": 8,
   "id": "b25cfd4d",
   "metadata": {
    "execution": {
     "iopub.execute_input": "2022-10-15T18:58:22.235567Z",
     "iopub.status.busy": "2022-10-15T18:58:22.234905Z",
     "iopub.status.idle": "2022-10-15T18:58:22.243248Z",
     "shell.execute_reply": "2022-10-15T18:58:22.242143Z"
    },
    "papermill": {
     "duration": 0.017941,
     "end_time": "2022-10-15T18:58:22.245448",
     "exception": false,
     "start_time": "2022-10-15T18:58:22.227507",
     "status": "completed"
    },
    "tags": []
   },
   "outputs": [
    {
     "data": {
      "text/plain": [
       "array(['One_Story_1946_and_Newer_All_Styles', 'Two_Story_1946_and_Newer',\n",
       "       'One_Story_PUD_1946_and_Newer',\n",
       "       'One_and_Half_Story_Finished_All_Ages', 'Split_Foyer',\n",
       "       'Two_Story_PUD_1946_and_Newer', 'Split_or_Multilevel',\n",
       "       'One_Story_1945_and_Older', 'Duplex_All_Styles_and_Ages',\n",
       "       'Two_Family_conversion_All_Styles_and_Ages',\n",
       "       'One_and_Half_Story_Unfinished_All_Ages',\n",
       "       'Two_Story_1945_and_Older', 'Two_and_Half_Story_All_Ages',\n",
       "       'One_Story_with_Finished_Attic_All_Ages',\n",
       "       'PUD_Multilevel_Split_Level_Foyer',\n",
       "       'One_and_Half_Story_PUD_All_Ages'], dtype=object)"
      ]
     },
     "execution_count": 8,
     "metadata": {},
     "output_type": "execute_result"
    }
   ],
   "source": [
    "df.MSSubClass.unique()"
   ]
  },
  {
   "cell_type": "markdown",
   "id": "82d9c6cf",
   "metadata": {
    "papermill": {
     "duration": 0.006026,
     "end_time": "2022-10-15T18:58:22.258023",
     "exception": false,
     "start_time": "2022-10-15T18:58:22.251997",
     "status": "completed"
    },
    "tags": []
   },
   "source": [
    "You can see that there is a more general categorization described (roughly) by the first word of each category. Create a feature containing only these first words by splitting `MSSubClass` at the first underscore `_`. (Hint: In the `split` method use an argument `n=1`.)"
   ]
  },
  {
   "cell_type": "code",
   "execution_count": 9,
   "id": "90d75cfa",
   "metadata": {
    "execution": {
     "iopub.execute_input": "2022-10-15T18:58:22.272460Z",
     "iopub.status.busy": "2022-10-15T18:58:22.272064Z",
     "iopub.status.idle": "2022-10-15T18:58:22.297795Z",
     "shell.execute_reply": "2022-10-15T18:58:22.296670Z"
    },
    "lines_to_next_cell": 0,
    "papermill": {
     "duration": 0.035838,
     "end_time": "2022-10-15T18:58:22.300136",
     "exception": false,
     "start_time": "2022-10-15T18:58:22.264298",
     "status": "completed"
    },
    "tags": []
   },
   "outputs": [
    {
     "data": {
      "application/javascript": [
       "parent.postMessage({\"jupyterEvent\": \"custom.exercise_interaction\", \"data\": {\"outcomeType\": 1, \"valueTowardsCompletion\": 0.2, \"interactionType\": 1, \"questionType\": 2, \"questionId\": \"4_Q4\", \"learnToolsVersion\": \"0.3.4\", \"failureMessage\": \"\", \"exceptionClass\": \"\", \"trace\": \"\"}}, \"*\")"
      ],
      "text/plain": [
       "<IPython.core.display.Javascript object>"
      ]
     },
     "metadata": {},
     "output_type": "display_data"
    },
    {
     "data": {
      "text/markdown": [
       "<span style=\"color:#33cc33\">Correct</span>"
      ],
      "text/plain": [
       "Correct"
      ]
     },
     "metadata": {},
     "output_type": "display_data"
    }
   ],
   "source": [
    "X_4 = pd.DataFrame()\n",
    "\n",
    "# YOUR CODE HERE\n",
    "X_4[\"MSClass\"] = df.MSSubClass.str.split(\"_\", n=1, expand=True)[0]\n",
    "\n",
    "# Check your answer\n",
    "q_4.check()"
   ]
  },
  {
   "cell_type": "code",
   "execution_count": 10,
   "id": "2f07a62c",
   "metadata": {
    "execution": {
     "iopub.execute_input": "2022-10-15T18:58:22.314801Z",
     "iopub.status.busy": "2022-10-15T18:58:22.314386Z",
     "iopub.status.idle": "2022-10-15T18:58:22.319061Z",
     "shell.execute_reply": "2022-10-15T18:58:22.317989Z"
    },
    "lines_to_next_cell": 0,
    "papermill": {
     "duration": 0.01482,
     "end_time": "2022-10-15T18:58:22.321554",
     "exception": false,
     "start_time": "2022-10-15T18:58:22.306734",
     "status": "completed"
    },
    "tags": []
   },
   "outputs": [],
   "source": [
    "# Lines below will give you a hint or solution code\n",
    "#q_4.hint()\n",
    "#q_4.solution()"
   ]
  },
  {
   "cell_type": "markdown",
   "id": "5b65468f",
   "metadata": {
    "papermill": {
     "duration": 0.006326,
     "end_time": "2022-10-15T18:58:22.334469",
     "exception": false,
     "start_time": "2022-10-15T18:58:22.328143",
     "status": "completed"
    },
    "tags": []
   },
   "source": [
    "# 5) Use a Grouped Transform\n",
    "\n",
    "The value of a home often depends on how it compares to typical homes in its neighborhood. Create a feature `MedNhbdArea` that describes the *median* of `GrLivArea` grouped on `Neighborhood`."
   ]
  },
  {
   "cell_type": "code",
   "execution_count": 11,
   "id": "ef0cf73b",
   "metadata": {
    "execution": {
     "iopub.execute_input": "2022-10-15T18:58:22.349800Z",
     "iopub.status.busy": "2022-10-15T18:58:22.349002Z",
     "iopub.status.idle": "2022-10-15T18:58:22.370438Z",
     "shell.execute_reply": "2022-10-15T18:58:22.367876Z"
    },
    "lines_to_next_cell": 0,
    "papermill": {
     "duration": 0.032,
     "end_time": "2022-10-15T18:58:22.372965",
     "exception": false,
     "start_time": "2022-10-15T18:58:22.340965",
     "status": "completed"
    },
    "tags": []
   },
   "outputs": [
    {
     "data": {
      "application/javascript": [
       "parent.postMessage({\"jupyterEvent\": \"custom.exercise_interaction\", \"data\": {\"outcomeType\": 1, \"valueTowardsCompletion\": 0.2, \"interactionType\": 1, \"questionType\": 2, \"questionId\": \"5_Q5\", \"learnToolsVersion\": \"0.3.4\", \"failureMessage\": \"\", \"exceptionClass\": \"\", \"trace\": \"\"}}, \"*\")"
      ],
      "text/plain": [
       "<IPython.core.display.Javascript object>"
      ]
     },
     "metadata": {},
     "output_type": "display_data"
    },
    {
     "data": {
      "text/markdown": [
       "<span style=\"color:#33cc33\">Correct</span>"
      ],
      "text/plain": [
       "Correct"
      ]
     },
     "metadata": {},
     "output_type": "display_data"
    }
   ],
   "source": [
    "X_5 = pd.DataFrame()\n",
    "\n",
    "# YOUR CODE HERE\n",
    "X_5[\"MedNhbdArea\"] = df.groupby(\"Neighborhood\")[\"GrLivArea\"].transform(\"median\")\n",
    "\n",
    "# Check your answer\n",
    "q_5.check()"
   ]
  },
  {
   "cell_type": "code",
   "execution_count": 12,
   "id": "57c35714",
   "metadata": {
    "execution": {
     "iopub.execute_input": "2022-10-15T18:58:22.392630Z",
     "iopub.status.busy": "2022-10-15T18:58:22.392031Z",
     "iopub.status.idle": "2022-10-15T18:58:22.397549Z",
     "shell.execute_reply": "2022-10-15T18:58:22.395972Z"
    },
    "lines_to_next_cell": 0,
    "papermill": {
     "duration": 0.017182,
     "end_time": "2022-10-15T18:58:22.400945",
     "exception": false,
     "start_time": "2022-10-15T18:58:22.383763",
     "status": "completed"
    },
    "tags": []
   },
   "outputs": [],
   "source": [
    "# Lines below will give you a hint or solution code\n",
    "#q_5.hint()\n",
    "#q_5.solution()"
   ]
  },
  {
   "cell_type": "markdown",
   "id": "d0eedf70",
   "metadata": {
    "papermill": {
     "duration": 0.007774,
     "end_time": "2022-10-15T18:58:22.416002",
     "exception": false,
     "start_time": "2022-10-15T18:58:22.408228",
     "status": "completed"
    },
    "tags": []
   },
   "source": [
    "Now you've made your first new feature set! If you like, you can run the cell below to score the model with all of your new features added:"
   ]
  },
  {
   "cell_type": "code",
   "execution_count": 13,
   "id": "13df4d5c",
   "metadata": {
    "execution": {
     "iopub.execute_input": "2022-10-15T18:58:22.431593Z",
     "iopub.status.busy": "2022-10-15T18:58:22.431103Z",
     "iopub.status.idle": "2022-10-15T18:58:27.363114Z",
     "shell.execute_reply": "2022-10-15T18:58:27.361961Z"
    },
    "papermill": {
     "duration": 4.942777,
     "end_time": "2022-10-15T18:58:27.365750",
     "exception": false,
     "start_time": "2022-10-15T18:58:22.422973",
     "status": "completed"
    },
    "tags": []
   },
   "outputs": [
    {
     "data": {
      "text/plain": [
       "0.13847331710099203"
      ]
     },
     "execution_count": 13,
     "metadata": {},
     "output_type": "execute_result"
    }
   ],
   "source": [
    "X_new = X.join([X_1, X_2, X_3, X_4, X_5])\n",
    "score_dataset(X_new, y)"
   ]
  },
  {
   "cell_type": "markdown",
   "id": "d367ba6c",
   "metadata": {
    "papermill": {
     "duration": 0.006733,
     "end_time": "2022-10-15T18:58:27.380803",
     "exception": false,
     "start_time": "2022-10-15T18:58:27.374070",
     "status": "completed"
    },
    "tags": []
   },
   "source": [
    "# Keep Going #\n",
    "\n",
    "[**Untangle spatial relationships**](https://www.kaggle.com/ryanholbrook/clustering-with-k-means) by adding cluster labels to your dataset."
   ]
  },
  {
   "cell_type": "markdown",
   "id": "b269c15b",
   "metadata": {
    "papermill": {
     "duration": 0.006523,
     "end_time": "2022-10-15T18:58:27.394161",
     "exception": false,
     "start_time": "2022-10-15T18:58:27.387638",
     "status": "completed"
    },
    "tags": []
   },
   "source": [
    "---\n",
    "\n",
    "\n",
    "\n",
    "\n",
    "*Have questions or comments? Visit the [course discussion forum](https://www.kaggle.com/learn/feature-engineering/discussion) to chat with other learners.*"
   ]
  }
 ],
 "metadata": {
  "kernelspec": {
   "display_name": "Python 3",
   "language": "python",
   "name": "python3"
  },
  "language_info": {
   "codemirror_mode": {
    "name": "ipython",
    "version": 3
   },
   "file_extension": ".py",
   "mimetype": "text/x-python",
   "name": "python",
   "nbconvert_exporter": "python",
   "pygments_lexer": "ipython3",
   "version": "3.7.12"
  },
  "papermill": {
   "default_parameters": {},
   "duration": 16.253809,
   "end_time": "2022-10-15T18:58:28.122456",
   "environment_variables": {},
   "exception": null,
   "input_path": "__notebook__.ipynb",
   "output_path": "__notebook__.ipynb",
   "parameters": {},
   "start_time": "2022-10-15T18:58:11.868647",
   "version": "2.3.4"
  }
 },
 "nbformat": 4,
 "nbformat_minor": 5
}
